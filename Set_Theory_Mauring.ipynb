{
 "cells": [
  {
   "cell_type": "code",
   "execution_count": null,
   "id": "94eb488b-a4cc-4024-95c9-6ab828e50d16",
   "metadata": {},
   "outputs": [],
   "source": [
    "!pip install numpy"
   ]
  },
  {
   "cell_type": "code",
   "execution_count": null,
   "id": "efbfa736-1db8-45a6-a7da-a784bb1ffd0a",
   "metadata": {},
   "outputs": [],
   "source": [
    "!pip install pandas"
   ]
  },
  {
   "cell_type": "code",
   "execution_count": null,
   "id": "8863fe41-1d21-40fa-8dea-d44e5d0e8c44",
   "metadata": {},
   "outputs": [],
   "source": [
    "!pip install tensorflow"
   ]
  },
  {
   "cell_type": "code",
   "execution_count": null,
   "id": "a0ad0127-c627-4c0e-9baa-91b19f6656c0",
   "metadata": {},
   "outputs": [],
   "source": [
    "!pip install scikit-learn"
   ]
  },
  {
   "cell_type": "code",
   "execution_count": null,
   "id": "517057a5-a9be-4ea3-8a14-00f5b968fda9",
   "metadata": {},
   "outputs": [],
   "source": [
    "pip install matplotlib"
   ]
  },
  {
   "cell_type": "code",
   "execution_count": null,
   "id": "7e1f46cf-5d88-4ba5-8489-4122b83ab0a7",
   "metadata": {},
   "outputs": [],
   "source": [
    "pip install venn"
   ]
  },
  {
   "cell_type": "markdown",
   "id": "2fa8813d-90c1-423c-877c-ded82032cd8b",
   "metadata": {},
   "source": [
    "Name: Mauring, Kim Andre G. <br>\n",
    "Discrete Math - CIS 1103 <br>\n",
    "Group 6 - T,TH 3:00pm - 4:30pm - LB305TC"
   ]
  },
  {
   "cell_type": "markdown",
   "id": "88b8691b-2780-40ef-90a2-d68007dbc019",
   "metadata": {},
   "source": [
    "## Set 1 Proving No.1\n",
    "***\n",
    "Given: A and B are sets, $\\exists$ x such that (x $\\in$ A $\\land$ x $\\in$ B) <br>\n",
    "A\\B  = A $\\cap$ B$^C$ <br>\n",
    "\n",
    "Proof: <Br>\n",
    "x $\\in$ A and x $\\notin$ B <br>\n",
    "x $\\in$ A and x $\\in$ $B^C$ <br>\n",
    "x $\\in$ A $\\cap$ $B^C$ <br>\n",
    "A\\B $\\subseteq$ A $\\cap$ B' <br>"
   ]
  },
  {
   "cell_type": "code",
   "execution_count": 5,
   "id": "66704228-956b-46d8-9061-6b3cfd17147e",
   "metadata": {},
   "outputs": [
    {
     "name": "stdout",
     "output_type": "stream",
     "text": [
      "{2}\n",
      "A intersect ~B is {2}\n",
      "{2} = {2}\n"
     ]
    }
   ],
   "source": [
    "## Proving no.1 with an example\n",
    "A = {1, 2}\n",
    "B = {1}\n",
    "U = A.union(B)\n",
    "print(A-B)\n",
    "print('A intersect ~B is', A&(U-B))\n",
    "print(A-B, '=', A&(U-B) )"
   ]
  },
  {
   "cell_type": "markdown",
   "id": "bbc4fcda-55b8-4fa8-9856-c78ab339c424",
   "metadata": {},
   "source": [
    "## Set 1 Proving No.2\n",
    "***\n",
    "Given: A and B are sets, $\\exists$ x such that (x $\\in$ A $\\land$ x $\\in$ B) <br>\n",
    "B = (B $\\cap$ A) $\\cup$ (B $\\cap$ A$^C$) <br>\n",
    "\n",
    "Proof:<br>\n",
    "x $\\in$ (B $\\cup$ (A $\\cap$ $A^C$)) $\\cap$ (B $\\cup$ ($A^C$ $\\cap$ A)) <br>\n",
    "x $\\in$ (B $\\cap$ U) $\\cup$ (B $\\cap$ U) <br>\n",
    "x $\\in$ B $\\cup$ B <br>\n",
    "x $\\in$ B <br>\n",
    "(A $\\cap$ B) $\\cup$ (B $\\cap$ A') $\\subseteq$ B "
   ]
  },
  {
   "cell_type": "code",
   "execution_count": 6,
   "id": "5c2c5a1d-66be-4908-b278-1f1795ba535e",
   "metadata": {},
   "outputs": [
    {
     "name": "stdout",
     "output_type": "stream",
     "text": [
      "A = {1, 3}\n",
      "B = {1, 2}\n",
      "A intersect B is {1}\n",
      "B intersect ~A {2}\n",
      "{1, 2}\n",
      "Therefore {1, 2} = {1, 2}\n"
     ]
    }
   ],
   "source": [
    "## proving no.2\n",
    "B = {1, 2}\n",
    "A = {1, 3}\n",
    "U = A.union(B)\n",
    "print('A =',A)\n",
    "print('B =',B)\n",
    "print('A intersect B is', A&B)\n",
    "print('B intersect ~A', B&(U-A))\n",
    "print((A&B).union(B&(U-A)))\n",
    "print('Therefore',B, '=', (A&B).union(B&(U-A)) )"
   ]
  },
  {
   "cell_type": "markdown",
   "id": "b8162a14-be49-473c-9a04-e25c369aa463",
   "metadata": {},
   "source": [
    "## Set 1 Proving No.3\n",
    "***\n",
    "Given: A and B are sets, $\\exists$ x such that (x $\\in$ A $\\land$ x $\\in$ B) <br>\n",
    "B\\A = B $\\cap$ A$^C$ <br>\n",
    "\n",
    "Pretty similar to the first example <br>\n",
    "Proof: <Br>\n",
    "A\\B $\\subseteq$ A $\\cap$ B' <br>"
   ]
  },
  {
   "cell_type": "code",
   "execution_count": 7,
   "id": "15432838-2625-4dfa-b519-72fcfbeea5d4",
   "metadata": {},
   "outputs": [
    {
     "name": "stdout",
     "output_type": "stream",
     "text": [
      "B \\ A = {2}\n",
      "B intersect ~A = {2}\n",
      "Therefore {2} = {2}\n"
     ]
    }
   ],
   "source": [
    "## proving no.3\n",
    "B = {1, 2}\n",
    "A = {1, 3}\n",
    "U = A.union(B)\n",
    "\n",
    "print('B \\ A =', B-A)\n",
    "print('B intersect ~A =', B&(U-A))\n",
    "print('Therefore',B-A, '=', B&(U-A))"
   ]
  },
  {
   "cell_type": "markdown",
   "id": "5e469e1a-5dff-45c6-b4be-64a7dbf11fd9",
   "metadata": {},
   "source": [
    "## Set 1 Proving No.4\n",
    "***\n",
    "Given: A and B are sets, $\\exists$ x such that (x $\\in$ A $\\land$ x $\\in$ B) <br>\n",
    "A $\\cap$ B = A $\\cap$ (B $\\cap$ A$^C$)\n",
    "A  = {1, 2} <br>\n",
    "B  = {1, 3} <br>\n",
    "U = A $\\cup$ B <br><br>\n",
    "\n",
    "Proof: <br>\n",
    "A $\\cup$ B $\\subseteq$ U\r\n"
   ]
  },
  {
   "cell_type": "code",
   "execution_count": 8,
   "id": "02455254-6f79-4ee9-9284-713381524ddd",
   "metadata": {},
   "outputs": [
    {
     "name": "stdout",
     "output_type": "stream",
     "text": [
      "\n",
      "A union B = {1, 2, 3}\n",
      "{1, 3}\n",
      "{2}\n",
      "Set A union with Set B intersect ~A {1, 2, 3}\n",
      "Therefore {1, 2, 3} = {1, 2, 3}\n"
     ]
    }
   ],
   "source": [
    "## proving no.4\n",
    "B = {1, 2}\n",
    "A = {1, 3}\n",
    "U = A.union(B)\n",
    "print('')\n",
    "\n",
    "print('A union B =',A.union(B))\n",
    "print(A)\n",
    "print(B&(U-A))\n",
    "print('Set A union with Set B intersect ~A',A.union(B&(U-A)))\n",
    "print('Therefore', A.union(B), '=', A.union(B&(U-A)))"
   ]
  },
  {
   "cell_type": "markdown",
   "id": "c5978488-9e4e-4184-9469-2625457da987",
   "metadata": {},
   "source": [
    "## Set 1 Proving No.5\n",
    "***\n",
    "Given: A and B are sets, $\\exists$ x such that (x $\\in$ A $\\land$ x $\\in$ B) <br>\n",
    "(U$^\\infty_i=1$ A$^C_i$) = $\\cap^\\infty_i+1$ A$_i$ <br>\n",
    "\n",
    "Proof:<br>\n",
    "(U$^\\infty_i=1$ A$^C_i$), An element belongs to this set if and only if it is not in at least one of the set A$^C_i$<br>\n",
    "$\\cap^\\infty_i+1$ A$_i$, An element belongs to this set if and only if it is in all of the sets A$^C_i$ <br><br>\n",
    "Since no element can belong to both sides of the equation, we have shown both sides are disjoint. As a result of being disjoint, both only contain null. With both being empty sets therefore both are equal."
   ]
  },
  {
   "cell_type": "markdown",
   "id": "0543fc2a-6227-493f-82a7-8f8f676d6a03",
   "metadata": {},
   "source": [
    "## Set 1 Proving No.6\n",
    "***\n",
    "Given: A and B are sets, $\\exists$ x such that (x $\\in$ A $\\land$ x $\\in$ B) <br>\n",
    "|A $\\cup$ B| = |A| + |B| - |A $\\cap$ B| <br>\n",
    "\n",
    "Proof: <br>\n",
    "n(A$\\cup$B)=n(A)+n(B)−n(A$\\cap$B)+n(A$\\cap$B) <br>\n",
    "n(A$\\cup$B)=n(A)+n(B)−n(A$\\cap$B) <br> "
   ]
  },
  {
   "cell_type": "code",
   "execution_count": 10,
   "id": "c710e93b-1250-463e-8c25-3659a9a82ad3",
   "metadata": {},
   "outputs": [
    {
     "name": "stdout",
     "output_type": "stream",
     "text": [
      "|A union B| = 3\n",
      "2 + 2 = 4\n",
      "|A intersect B| = 1\n",
      "4 - 1 = 3\n",
      "Therefore, 3 = 3\n"
     ]
    }
   ],
   "source": [
    "## proving no.6\n",
    "B = {1, 2}\n",
    "A = {1, 3}\n",
    "U = A.union(B)\n",
    "print('|A union B| =', len(U))\n",
    "print(len(A), '+', len(B), '=', len(A)+len(B))\n",
    "print('|A intersect B| =', len(A&B))\n",
    "print(len(A)+len(B), '-', len(A&B), '=', len(A)+len(B)-len(A&B))\n",
    "print('Therefore,', len(U), '=', len(A)+len(B)-len(A&B))\n"
   ]
  },
  {
   "cell_type": "markdown",
   "id": "ffca78ab-dd13-4ac5-bc81-ede5eba48bbf",
   "metadata": {},
   "source": [
    "## Set 2 Item 1\n",
    "***\n",
    "If A = {2, 3, 4, 5}, and B = {x $\\in$ N is even}. Is A $\\subset$ B? Show proof. <br><br>\n",
    "Since the condition to be considered as a subset need that the superset having all the elements found in the subset."
   ]
  },
  {
   "cell_type": "code",
   "execution_count": 11,
   "id": "b792a755-6191-4975-93e1-526fdaf8a973",
   "metadata": {},
   "outputs": [
    {
     "name": "stdout",
     "output_type": "stream",
     "text": [
      "is A a proper subset of B? False\n",
      "Since the set of all even numbers do not contain elements 3 and 5.\n"
     ]
    }
   ],
   "source": [
    "## Doing Set Two\n",
    "A = {2, 3, 4, 5}\n",
    "B = {2, 4, 6, 8, 10}\n",
    "print('is A a proper subset of B?',B. issubset (A))\n",
    "print('Since the set of all even numbers do not contain elements 3 and 5.')"
   ]
  },
  {
   "cell_type": "markdown",
   "id": "3b589e28-8bd1-4f81-930a-5b3d6299a3f8",
   "metadata": {},
   "source": [
    "## Set 2 Item 2\n",
    "***\n",
    "Let sets \n",
    "$\n",
    "\\textbf{A} = {x|x \\in \\mathbb{Z}, 0 \\leq x \\leq 9}, \r\n",
    "\\textbf{B} = { 2,4,6,8}, \\ and \\ \\textbf{C} = { 1,3,5,7,9} \\ and \\ \\textbf{D} = { 3,4,  Find a set}\r\n",
    "\\textb{  which will satisfy the following conditions: 1.X}\r\n",
    "\\textbf{X} \\ and \\ \\textbf  are disjointed 2.{B}\r\n",
    "\\textbf{X} \\subseteq \\textb  butf{D}\r\n",
    "\\textbf{X} \\nsubseteq \\text  3.bf{B}\r\n",
    "\\textbf{X} \\subseteq \\tex  buttbf{A}\r\n",
    "\\textbf{X} \\not\\subset \\texbf{C}$."
   ]
  },
  {
   "cell_type": "markdown",
   "id": "cd9fee7b-0642-48b7-9aad-5036546799a2",
   "metadata": {},
   "source": [
    "To find a set X that satisfies the given conditions:<br><br>\n",
    "X and B are disjoint, sets with no elements in common<br>\n",
    "X ⊆ D but X ⊈ B<br>\n",
    "X ⊆ A but X ⊈ C<br>\n",
    "X ⊈ C<br><br>\n",
    "So, the set X that satisfies all these conditions is: X = {3}<br>"
   ]
  },
  {
   "cell_type": "markdown",
   "id": "5a6cbbf1-4968-4d15-b747-4a8cd30ad547",
   "metadata": {},
   "source": [
    "## Set 3 \n",
    "***\n",
    "Given: <br>\n",
    "U = {1, 2, 3, 4, 5} <br>\n",
    "A = {1, 2, 3, 4, 5} <br>\n",
    "B = {4, 5, 6, 7} <br>\n",
    "C = {5, 6, 7, 8, 9} <br>\n",
    "D = {1, 3, 5, 7, 9} <br>\n",
    "E = {2, 4, 6, 8} <br>\n",
    "F = {1, 5, 9} <br>"
   ]
  },
  {
   "cell_type": "markdown",
   "id": "92867ad2-6e20-490c-8c87-94259d660883",
   "metadata": {},
   "source": [
    "# Solving  <br>\n",
    "C $\t\\oplus$ D = (C $\\cup$ D) \\ (C $\\cap$ D)<br>\n",
    "C = {5, 6, 7, 8, 9} <br>\n",
    "D = {1, 3, 5, 7, 9} <br>\n",
    "C $\t\\oplus$ D = {1, 3, 6, 8}<br><br>\n",
    "\n",
    "A \\ B <br>\n",
    "A = {1, 2, 3, 4, 5} <br>\n",
    "B = {4, 5, 6, 7} <br>\n",
    "A \\ B = {1, 2, 3}<br><br>\n",
    "\n",
    "B \\ A <br>\n",
    "B = {4, 5, 6, 7} <br>\n",
    "A = {1, 2, 3, 4, 5} <br>\n",
    "B \\ A = {6, 7}<br><br>\n",
    "\n",
    "E $\t\\oplus$ F = (C $\\cup$ D) \\ (C $\\cap$ D)  <br>\n",
    "E = {2, 4, 6, 8} <br>\n",
    "F = {1, 5, 9} <br>\n",
    "E $\t\\oplus$ F  = {1, 2, 4, 5, 6, 8, 9}<br><br>"
   ]
  },
  {
   "cell_type": "code",
   "execution_count": 12,
   "id": "4329fa5a-a809-4d18-96e9-65aeadcc19b8",
   "metadata": {},
   "outputs": [
    {
     "name": "stdout",
     "output_type": "stream",
     "text": [
      "C xor D = {1, 3, 6, 8}\n",
      "A - B = {1, 2, 3}\n",
      "B - A = {6, 7}\n",
      "E - F = {1, 2, 4, 5, 6, 8, 9}\n"
     ]
    }
   ],
   "source": [
    "U = {1, 2, 3, 4, 5} \n",
    "A = {1, 2, 3, 4, 5} \n",
    "B = {4, 5, 6, 7} \n",
    "C = {5, 6, 7, 8, 9} \n",
    "D = {1, 3, 5, 7, 9} \n",
    "E = {2, 4, 6, 8} \n",
    "F = {1, 5, 9}\n",
    "\n",
    "print('C xor D =',C^D)\n",
    "print('A - B =',A-B)\n",
    "print('B - A =',B-A)\n",
    "print('E - F =',E^F)"
   ]
  },
  {
   "cell_type": "markdown",
   "id": "7af74d94-905f-4977-af13-7bd97c101262",
   "metadata": {},
   "source": [
    "# Set 4 Item 1\n",
    "***\n",
    "In a Survey of 120 People, it was found that: <br>\n",
    "65 read Newsweek Magazine <br>\n",
    "45 read Times Magazine <br>\n",
    "42 read Fortune Magazine <br>\n",
    "20 read Both Newsweek and Time <br> \n",
    "25 read both Newsweek and Fortune <br>\n",
    "15 read both Time and Fortune <br>\n",
    "8 read all three magazines <br><br>\n",
    "\n",
    "With these information do the following: <br>\n",
    "Draw the venn diagram using python. <br>\n",
    "Find the number of people who read at \"least one\" of the three magazines. <br>\n",
    "Find the number of people who read exactly one magazine. <br>"
   ]
  },
  {
   "cell_type": "code",
   "execution_count": 1,
   "id": "a189d706-b478-42a6-bd27-69b8bdb6a4ff",
   "metadata": {},
   "outputs": [
    {
     "data": {
      "image/png": "[encoded data removed]",
      "text/plain": [
       "<Figure size 640x480 with 1 Axes>"
      ]
     },
     "metadata": {},
     "output_type": "display_data"
    },
    {
     "name": "stdout",
     "output_type": "stream",
     "text": [
      "The number of people who read at least one of the three magazines:  100\n",
      "The total number of people who read exactly one magaizne:  56\n"
     ]
    }
   ],
   "source": [
    "from matplotlib_venn import venn3, venn3_circles\n",
    "import matplotlib.pyplot as plt\n",
    "\n",
    "##Given\n",
    "Total = 120\n",
    "AllThree = 8\n",
    "Times_Fortune = 15\n",
    "News_Fortune = 25\n",
    "News_Times = 20\n",
    "Fortune = 42\n",
    "Times = 45\n",
    "News = 65\n",
    "\n",
    "##Solving, O denoting 'Only'\n",
    "O_News = (News - (News_Times + News_Fortune - AllThree))\n",
    "O_Times = (Times - (News_Times + Times_Fortune - AllThree))\n",
    "O_Fortune = (Fortune - (News_Fortune + Times_Fortune - AllThree))\n",
    "O_News_Times = (News_Times - AllThree)\n",
    "O_News_Fortune = (News_Fortune - AllThree)\n",
    "O_Times_Fortune = (Times_Fortune - AllThree)\n",
    "\n",
    "##Solving p.II\n",
    "MinOne = ((News + Times + Fortune) - (News_Times + News_Fortune + Times_Fortune) + (AllThree))\n",
    "OnlyOne = O_Fortune + O_Times + O_News\n",
    "\n",
    "##Making of the Venn Diagram\n",
    "venn = venn3(subsets = (O_Fortune, O_Times, O_Times_Fortune, O_News, O_News_Fortune, O_News_Times, AllThree), set_labels = ('Fortune', 'Times', 'News'))\n",
    "plt.title(\"Magazines People Read\")\n",
    "plt.show()\n",
    "\n",
    "##display\n",
    "print('The number of people who read at least one of the three magazines: ', MinOne)\n",
    "print('The total number of people who read exactly one magaizne: ', OnlyOne)"
   ]
  },
  {
   "cell_type": "markdown",
   "id": "084c8816-d4c9-44c4-9ae8-0ef6fb134f55",
   "metadata": {},
   "source": [
    "# Set 4 Item 1\n",
    "***\n",
    "In a survey of 25 new cars being sold at a local auto dealer was conducted to see which of the three popular options: air-conditioning, denoted as A; radio, denoted as R; and power windows, denoted as W were installed. The survey found that: - 15 had A. HINT: The condition said \"had an A\"  AND NOT \"had an A only\" - 12 had R. HINT: The condition said \"had a R\"  AND NOT \"had a R only\" - 11 had W. HINT: The condition said \"had a W\"  AND NOT \"had a W only\" - 5 had A and W. - 9 had A and R. - 4 had R and W. - Only 3 have the three options. With these information do the following: <br><br>\n",
    "Draw the venn diagram using python.<br>\n",
    "Find the number of cars with W only.<br>\n",
    "Find the number of cars with A only.<br>\n",
    "Find the number of cars with R only.<br>\n",
    "Find the number of cars with both R and W but not A.<br>\n",
    "Find the number of cars with both A and R but not W.<br>\n",
    "Find the number of cars with only one of the options.<br>\n",
    "Find the number of cars with at least one option.<br>\n",
    "Find the number of cars with none of the Options.<br>\n",
    "\n"
   ]
  },
  {
   "cell_type": "code",
   "execution_count": 9,
   "id": "0bbc2973-949b-4228-8dbc-859bb14f2f51",
   "metadata": {},
   "outputs": [
    {
     "data": {
      "image/png": "[encoded data removed]",
      "text/plain": [
       "<Figure size 640x480 with 1 Axes>"
      ]
     },
     "metadata": {},
     "output_type": "display_data"
    },
    {
     "name": "stdout",
     "output_type": "stream",
     "text": [
      "Number of cars with W only: 5\n",
      "Number of cars with A only: 4\n",
      "Number of cars with R only: 2\n",
      "Number of cars with both R and W but not A: 1\n",
      "Number of cars with both A and R but not W: 6\n",
      "Number of cars with only one of the options: 11\n",
      "Number of cars with at least one option: 23\n",
      "Number of cars with none of the options: 2\n"
     ]
    }
   ],
   "source": [
    "from matplotlib_venn import venn3, venn3_circles\n",
    "import matplotlib.pyplot as plt\n",
    "\n",
    "# Given data\n",
    "Total = 25\n",
    "\n",
    "A = 15\n",
    "R = 12\n",
    "W = 11\n",
    "\n",
    "AW = 5\n",
    "AR = 9\n",
    "RW = 4\n",
    "\n",
    "ARW = 3\n",
    "\n",
    "#single\n",
    "O_A = A - (AW + AR - ARW)\n",
    "O_R = R - (RW + AR - ARW)\n",
    "O_W = W - (RW + AW - ARW)\n",
    "\n",
    "#doubles only\n",
    "O_AW = AW - ARW\n",
    "O_AR = AR - ARW\n",
    "O_RW = RW - ARW\n",
    "\n",
    "#Let O be the number of cars with at least one option\n",
    "O = A + W + R - AW - AR - RW + ARW\n",
    "\n",
    "# Let N be the number of cars with none of the options\n",
    "N = T - (A + W + R - AW - AR - RW + ARW)\n",
    "\n",
    "# Create the Venn diagram\n",
    "venn = venn3 (subsets=(O_A, O_R, O_AR, O_W, O_AW, O_RW, ARW), set_labels=('A', 'R', 'W'))\n",
    "\n",
    "plt.title(\"Venn Diagram of Car Features\")\n",
    "plt.show()\n",
    "\n",
    "# Print the answers\n",
    "print(\"Number of cars with W only:\", O_W)\n",
    "print(\"Number of cars with A only:\", O_A)\n",
    "print(\"Number of cars with R only:\", O_R)\n",
    "print(\"Number of cars with both R and W but not A:\", O_RW)\n",
    "print(\"Number of cars with both A and R but not W:\", O_AR)\n",
    "print(\"Number of cars with only one of the options:\", O_A + O_R + O_W)\n",
    "print(\"Number of cars with at least one option:\", O)\n",
    "print(\"Number of cars with none of the options:\", N)"
   ]
  },
  {
   "cell_type": "code",
   "execution_count": null,
   "id": "3dc3c5a8-94e3-40c4-9a2f-87a54813081a",
   "metadata": {},
   "outputs": [],
   "source": []
  }
 ],
 "metadata": {
  "kernelspec": {
   "display_name": "Python 3 (ipykernel)",
   "language": "python",
   "name": "python3"
  },
  "language_info": {
   "codemirror_mode": {
    "name": "ipython",
    "version": 3
   },
   "file_extension": ".py",
   "mimetype": "text/x-python",
   "name": "python",
   "nbconvert_exporter": "python",
   "pygments_lexer": "ipython3",
   "version": "3.11.5"
  }
 },
 "nbformat": 4,
 "nbformat_minor": 5
}
